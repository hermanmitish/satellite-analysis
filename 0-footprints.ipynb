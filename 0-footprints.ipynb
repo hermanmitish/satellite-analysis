{
 "cells": [
  {
   "cell_type": "code",
   "execution_count": 1,
   "metadata": {},
   "outputs": [
    {
     "name": "stdout",
     "output_type": "stream",
     "text": [
      "Note: you may need to restart the kernel to use updated packages.\n"
     ]
    }
   ],
   "source": [
    "# Install google earth engine python API\n",
    "# https://developers.google.com/earth-engine/python_install_manual\n",
    "%pip install earthengine-api --upgrade pandas geopandas > /dev/null"
   ]
  },
  {
   "cell_type": "code",
   "execution_count": 83,
   "metadata": {},
   "outputs": [
    {
     "data": {
      "text/plain": [
       "{'minlat': 48.871914,\n",
       " 'minlon': 37.294625,\n",
       " 'maxlat': 49.0618144,\n",
       " 'maxlon': 37.6970164}"
      ]
     },
     "execution_count": 83,
     "metadata": {},
     "output_type": "execute_result"
    }
   ],
   "source": [
    "# Get a bounds of the Sviatohirsk city from OpenStreetMap API\n",
    "# https://wiki.openstreetmap.org/wiki/Overpass_API\n",
    "import requests\n",
    "\n",
    "\n",
    "response = requests.get('https://overpass-api.de/api/interpreter?data=[out:json];%20area[name=%22%D0%A1%D0%B2%D1%8F%D1%82%D0%BE%D0%B3%D1%96%D1%80%D1%81%D1%8C%D0%BA%22]%20-%3E%20.a;%20(%20relation(area.a)[admin_level];%20);%20out%20geom;')\n",
    "data = response.json()\n",
    "bounds = data['elements'][0]['bounds']\n",
    "\n",
    "# Make a geojson file with bounds as a polygon\n",
    "geoJSON = {\n",
    "    \"type\": \"FeatureCollection\",\n",
    "    \"features\": [\n",
    "        {\n",
    "            \"type\": \"Feature\",\n",
    "            \"properties\": {},\n",
    "            \"geometry\":\n",
    "            {\n",
    "                \"type\": \"Polygon\",\n",
    "                \"coordinates\": [\n",
    "                    [\n",
    "                        [bounds['minlon'], bounds['minlat']],\n",
    "                        [bounds['minlon'], bounds['maxlat']],\n",
    "                        [bounds['maxlon'], bounds['maxlat']],\n",
    "                        [bounds['maxlon'], bounds['minlat']],\n",
    "                        [bounds['minlon'], bounds['minlat']]\n",
    "                    ]\n",
    "                ]\n",
    "            }\n",
    "        }\n",
    "    ]\n",
    "}\n",
    "\n",
    "bounds"
   ]
  },
  {
   "cell_type": "code",
   "execution_count": 94,
   "metadata": {},
   "outputs": [
    {
     "data": {
      "text/html": [
       "<div style=\"width:100%;\"><div style=\"position:relative;width:100%;height:0;padding-bottom:60%;\"><span style=\"color:#565656\">Make this Notebook Trusted to load map: File -> Trust Notebook</span><iframe srcdoc=\"&lt;!DOCTYPE html&gt;\n",
       "&lt;html&gt;\n",
       "&lt;head&gt;\n",
       "    \n",
       "    &lt;meta http-equiv=&quot;content-type&quot; content=&quot;text/html; charset=UTF-8&quot; /&gt;\n",
       "    \n",
       "        &lt;script&gt;\n",
       "            L_NO_TOUCH = false;\n",
       "            L_DISABLE_3D = false;\n",
       "        &lt;/script&gt;\n",
       "    \n",
       "    &lt;style&gt;html, body {width: 100%;height: 100%;margin: 0;padding: 0;}&lt;/style&gt;\n",
       "    &lt;style&gt;#map {position:absolute;top:0;bottom:0;right:0;left:0;}&lt;/style&gt;\n",
       "    &lt;script src=&quot;https://cdn.jsdelivr.net/npm/leaflet@1.9.3/dist/leaflet.js&quot;&gt;&lt;/script&gt;\n",
       "    &lt;script src=&quot;https://code.jquery.com/jquery-3.7.1.min.js&quot;&gt;&lt;/script&gt;\n",
       "    &lt;script src=&quot;https://cdn.jsdelivr.net/npm/bootstrap@5.2.2/dist/js/bootstrap.bundle.min.js&quot;&gt;&lt;/script&gt;\n",
       "    &lt;script src=&quot;https://cdnjs.cloudflare.com/ajax/libs/Leaflet.awesome-markers/2.0.2/leaflet.awesome-markers.js&quot;&gt;&lt;/script&gt;\n",
       "    &lt;link rel=&quot;stylesheet&quot; href=&quot;https://cdn.jsdelivr.net/npm/leaflet@1.9.3/dist/leaflet.css&quot;/&gt;\n",
       "    &lt;link rel=&quot;stylesheet&quot; href=&quot;https://cdn.jsdelivr.net/npm/bootstrap@5.2.2/dist/css/bootstrap.min.css&quot;/&gt;\n",
       "    &lt;link rel=&quot;stylesheet&quot; href=&quot;https://netdna.bootstrapcdn.com/bootstrap/3.0.0/css/bootstrap.min.css&quot;/&gt;\n",
       "    &lt;link rel=&quot;stylesheet&quot; href=&quot;https://cdn.jsdelivr.net/npm/@fortawesome/fontawesome-free@6.2.0/css/all.min.css&quot;/&gt;\n",
       "    &lt;link rel=&quot;stylesheet&quot; href=&quot;https://cdnjs.cloudflare.com/ajax/libs/Leaflet.awesome-markers/2.0.2/leaflet.awesome-markers.css&quot;/&gt;\n",
       "    &lt;link rel=&quot;stylesheet&quot; href=&quot;https://cdn.jsdelivr.net/gh/python-visualization/folium/folium/templates/leaflet.awesome.rotate.min.css&quot;/&gt;\n",
       "    \n",
       "            &lt;meta name=&quot;viewport&quot; content=&quot;width=device-width,\n",
       "                initial-scale=1.0, maximum-scale=1.0, user-scalable=no&quot; /&gt;\n",
       "            &lt;style&gt;\n",
       "                #map_a4f461f4df011b69f13e3a7a920d248a {\n",
       "                    position: relative;\n",
       "                    width: 100.0%;\n",
       "                    height: 100.0%;\n",
       "                    left: 0.0%;\n",
       "                    top: 0.0%;\n",
       "                }\n",
       "                .leaflet-container { font-size: 1rem; }\n",
       "            &lt;/style&gt;\n",
       "        \n",
       "&lt;/head&gt;\n",
       "&lt;body&gt;\n",
       "    \n",
       "    \n",
       "            &lt;div class=&quot;folium-map&quot; id=&quot;map_a4f461f4df011b69f13e3a7a920d248a&quot; &gt;&lt;/div&gt;\n",
       "        \n",
       "&lt;/body&gt;\n",
       "&lt;script&gt;\n",
       "    \n",
       "    \n",
       "            var map_a4f461f4df011b69f13e3a7a920d248a = L.map(\n",
       "                &quot;map_a4f461f4df011b69f13e3a7a920d248a&quot;,\n",
       "                {\n",
       "                    center: [48.9, 37.5],\n",
       "                    crs: L.CRS.EPSG3857,\n",
       "                    zoom: 11,\n",
       "                    zoomControl: true,\n",
       "                    preferCanvas: false,\n",
       "                }\n",
       "            );\n",
       "\n",
       "            \n",
       "\n",
       "        \n",
       "    \n",
       "            var tile_layer_ff83730962a156a109e8103991b2b843 = L.tileLayer(\n",
       "                &quot;https://tile.openstreetmap.org/{z}/{x}/{y}.png&quot;,\n",
       "                {&quot;attribution&quot;: &quot;\\u0026copy; \\u003ca href=\\&quot;https://www.openstreetmap.org/copyright\\&quot;\\u003eOpenStreetMap\\u003c/a\\u003e contributors&quot;, &quot;detectRetina&quot;: false, &quot;maxNativeZoom&quot;: 19, &quot;maxZoom&quot;: 19, &quot;minZoom&quot;: 0, &quot;noWrap&quot;: false, &quot;opacity&quot;: 1, &quot;subdomains&quot;: &quot;abc&quot;, &quot;tms&quot;: false}\n",
       "            );\n",
       "        \n",
       "    \n",
       "            tile_layer_ff83730962a156a109e8103991b2b843.addTo(map_a4f461f4df011b69f13e3a7a920d248a);\n",
       "        \n",
       "    \n",
       "\n",
       "        function geo_json_e1612a713ff24bf32b99e59b95428109_onEachFeature(feature, layer) {\n",
       "            layer.on({\n",
       "            });\n",
       "        };\n",
       "        var geo_json_e1612a713ff24bf32b99e59b95428109 = L.geoJson(null, {\n",
       "                onEachFeature: geo_json_e1612a713ff24bf32b99e59b95428109_onEachFeature,\n",
       "            \n",
       "        });\n",
       "\n",
       "        function geo_json_e1612a713ff24bf32b99e59b95428109_add (data) {\n",
       "            geo_json_e1612a713ff24bf32b99e59b95428109\n",
       "                .addData(data);\n",
       "        }\n",
       "            geo_json_e1612a713ff24bf32b99e59b95428109_add({&quot;features&quot;: [{&quot;geometry&quot;: {&quot;coordinates&quot;: [[[37.294625, 48.871914], [37.294625, 49.0618144], [37.6970164, 49.0618144], [37.6970164, 48.871914], [37.294625, 48.871914]]], &quot;type&quot;: &quot;Polygon&quot;}, &quot;properties&quot;: {}, &quot;type&quot;: &quot;Feature&quot;}], &quot;type&quot;: &quot;FeatureCollection&quot;});\n",
       "\n",
       "        \n",
       "    \n",
       "            geo_json_e1612a713ff24bf32b99e59b95428109.addTo(map_a4f461f4df011b69f13e3a7a920d248a);\n",
       "        \n",
       "&lt;/script&gt;\n",
       "&lt;/html&gt;\" style=\"position:absolute;width:100%;height:100%;left:0;top:0;border:none !important;\" allowfullscreen webkitallowfullscreen mozallowfullscreen></iframe></div></div>"
      ],
      "text/plain": [
       "<folium.folium.Map at 0x137036350>"
      ]
     },
     "execution_count": 94,
     "metadata": {},
     "output_type": "execute_result"
    }
   ],
   "source": [
    "# Plot the bounds on the map with folium\n",
    "# https://python-visualization.github.io/folium/\n",
    "\n",
    "import folium\n",
    "import json\n",
    "\n",
    "m = folium.Map(location=[48.9, 37.5], zoom_start=11)\n",
    "folium.GeoJson(json.dumps(geoJSON)).add_to(m)\n",
    "m"
   ]
  },
  {
   "cell_type": "code",
   "execution_count": 7,
   "metadata": {},
   "outputs": [],
   "source": [
    "\n",
    "import pandas as pd\n",
    "import geopandas as gpd\n"
   ]
  },
  {
   "cell_type": "code",
   "execution_count": 62,
   "metadata": {},
   "outputs": [
    {
     "name": "stdout",
     "output_type": "stream",
     "text": [
      "Quadkey coordinates of the city:\n"
     ]
    },
    {
     "data": {
      "text/plain": [
       "('120330101000', '120312323302')"
      ]
     },
     "execution_count": 62,
     "metadata": {},
     "output_type": "execute_result"
    }
   ],
   "source": [
    "# Translate Lat/Lon bounds of the city to Quadkeys to download building footprints\n",
    "import math\n",
    "\n",
    "def lat_lon_to_pixel(latitude, longitude, zoom):\n",
    "    sinLatitude = math.sin(latitude * math.pi/180)\n",
    "    pixelX = ((longitude + 180) / 360) * 256 * 2**zoom\n",
    "    pixelY = (0.5 - math.log((1 + sinLatitude) / (1 - sinLatitude)) / (4 * math.pi)) * 256 * 2**zoom\n",
    "    return pixelX, pixelY\n",
    "\n",
    "def pixel_to_tile(pixelX, pixelY):\n",
    "    return int(math.floor(pixelX / 256)), int(math.floor(pixelY / 256))\n",
    "\n",
    "def tile_to_quadkey(tileX, tileY, zoom):\n",
    "    quadkey = \"\"\n",
    "    for i in range(zoom, 0, -1):\n",
    "        digit = 0\n",
    "        mask = 1 << (i - 1)\n",
    "        if (tileX & mask) != 0:\n",
    "            digit += 1\n",
    "        if (tileY & mask) != 0:\n",
    "            digit += 2\n",
    "        quadkey += str(digit)\n",
    "    return quadkey\n",
    "\n",
    "# Define the bounding box for Sviatohirsk\n",
    "minlat, minlon, maxlat, maxlon = bounds['minlat'], bounds['minlon'], bounds['maxlat'], bounds['maxlon']\n",
    "\n",
    "# Choose a zoom level (adjust as needed to cover the city area)\n",
    "zoom_level = 12\n",
    "\n",
    "# Convert the bounding box corners to pixel coordinates\n",
    "min_pixelX, min_pixelY = lat_lon_to_pixel(minlat, minlon, zoom_level)\n",
    "max_pixelX, max_pixelY = lat_lon_to_pixel(maxlat, maxlon, zoom_level)\n",
    "\n",
    "# Convert pixel coordinates to tile coordinates\n",
    "min_tileX, min_tileY = pixel_to_tile(min_pixelX, min_pixelY)\n",
    "max_tileX, max_tileY = pixel_to_tile(max_pixelX, max_pixelY)\n",
    "\n",
    "# Find Quadkeys for each corner (you might need to find all Quadkeys in the range for full coverage)\n",
    "quadkey_min = tile_to_quadkey(min_tileX, min_tileY, zoom_level)\n",
    "quadkey_max = tile_to_quadkey(max_tileX, max_tileY, zoom_level)\n",
    "\n",
    "\n",
    "# Remove three last digits from the quadkey\n",
    "# quadkey_min = quadkey_min[:-3]\n",
    "# quadkey_max = quadkey_max[:-3]\n",
    "\n",
    "print('Quadkey coordinates of the city:')\n",
    "quadkey_min, quadkey_max"
   ]
  },
  {
   "cell_type": "code",
   "execution_count": 74,
   "metadata": {},
   "outputs": [
    {
     "data": {
      "text/plain": [
       "[120312323, 120330101]"
      ]
     },
     "execution_count": 74,
     "metadata": {},
     "output_type": "execute_result"
    }
   ],
   "source": [
    "# Adjusting the approach to account for the full-length Quadkeys\n",
    "\n",
    "# Define the full-length Quadkeys\n",
    "def quadkey_to_tile(quadkey):\n",
    "    tileX, tileY = 0, 0\n",
    "    zoom = len(quadkey)\n",
    "    for i in range(zoom, 0, -1):\n",
    "        mask = 1 << (i - 1)\n",
    "        if quadkey[zoom - i] == '1':\n",
    "            tileX |= mask\n",
    "        elif quadkey[zoom - i] == '2':\n",
    "            tileY |= mask\n",
    "        elif quadkey[zoom - i] == '3':\n",
    "            tileX |= mask\n",
    "            tileY |= mask\n",
    "    return tileX, tileY, zoom\n",
    "\n",
    "# Convert full-length Quadkeys back to tile coordinates\n",
    "min_tileX, min_tileY, zoom = quadkey_to_tile(quadkey_min)\n",
    "max_tileX, max_tileY, _ = quadkey_to_tile(quadkey_max)\n",
    "\n",
    "# Ensure the min and max tile ranges are valid\n",
    "min_tileX, max_tileX = sorted([min_tileX, max_tileX])\n",
    "min_tileY, max_tileY = sorted([min_tileY, max_tileY])\n",
    "\n",
    "# Generate list of all Quadkeys in the bounding box\n",
    "all_quadkeys = []\n",
    "for tileX in range(min_tileX, max_tileX + 1):\n",
    "    for tileY in range(min_tileY, max_tileY + 1):\n",
    "        all_quadkeys.append(tile_to_quadkey(tileX, tileY, len(quadkey_min)))\n",
    "\n",
    "all_quadkeys_cropped = list(set(map(lambda x: int(x[:-3]), all_quadkeys)))\n",
    "all_quadkeys_cropped"
   ]
  },
  {
   "cell_type": "code",
   "execution_count": 78,
   "metadata": {},
   "outputs": [
    {
     "name": "stdout",
     "output_type": "stream",
     "text": [
      "Total Links:  2\n"
     ]
    }
   ],
   "source": [
    "# https://github.com/microsoft/GlobalMLBuildingFootprints/blob/main/scripts/make-gis-friendly.py\n",
    "\n",
    "# Get polygons of building footprints for selected bounding box from Microsoft Building Footprints dataset\n",
    "from shapely.geometry import shape\n",
    "import os\n",
    "\n",
    "# this is the name of the geography you want to retrieve. update to meet your needs\n",
    "location = 'Ukraine'\n",
    "\n",
    "dataset_links = pd.read_csv(\"https://minedbuildings.blob.core.windows.net/global-buildings/dataset-links.csv\")\n",
    "ukraine_links = dataset_links[dataset_links.Location == location]\n",
    "sviatohirsk_links = ukraine_links[ukraine_links.QuadKey.isin(all_quadkeys_cropped)]\n",
    "\n",
    "print('Total Links: ', len(sviatohirsk_links))\n",
    "\n",
    "footprints = []\n",
    "for _, row in sviatohirsk_links.iterrows():\n",
    "    df = pd.read_json(row.Url, lines=True)\n",
    "    df['geometry'] = df['geometry'].apply(shape)\n",
    "    footprints.append(gpd.GeoDataFrame(df, crs=4326))\n",
    "\n",
    "footprints = pd.concat(footprints)"
   ]
  },
  {
   "cell_type": "code",
   "execution_count": 79,
   "metadata": {},
   "outputs": [],
   "source": [
    "# Filter footprints by the city bounds\n",
    "footprints.cx[minlon:maxlon, minlat:maxlat].to_file('./footprints.geojson', driver='GeoJSON')"
   ]
  }
 ],
 "metadata": {
  "kernelspec": {
   "display_name": "Python 3",
   "language": "python",
   "name": "python3"
  },
  "language_info": {
   "codemirror_mode": {
    "name": "ipython",
    "version": 3
   },
   "file_extension": ".py",
   "mimetype": "text/x-python",
   "name": "python",
   "nbconvert_exporter": "python",
   "pygments_lexer": "ipython3",
   "version": "3.11.7"
  }
 },
 "nbformat": 4,
 "nbformat_minor": 2
}
