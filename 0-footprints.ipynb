{
 "cells": [
  {
   "cell_type": "code",
   "execution_count": null,
   "metadata": {},
   "outputs": [],
   "source": [
    "# Install google earth engine python API\n",
    "# https://developers.google.com/earth-engine/python_install_manual\n",
    "%pip install earthengine-api --upgrade pandas geopandas \n",
    "%pip install requests folium osmnx"
   ]
  },
  {
   "cell_type": "code",
   "execution_count": 18,
   "metadata": {},
   "outputs": [
    {
     "name": "stdout",
     "output_type": "stream",
     "text": [
      "https://overpass-api.de/api/interpreter?data=[out:json]; area[name=\"Кривий Ріг\"] -> .a; ( relation(area.a)[admin_level]; ); out geom;\n"
     ]
    },
    {
     "data": {
      "text/plain": [
       "{'minlat': 47.4566155,\n",
       " 'minlon': 32.9595518,\n",
       " 'maxlat': 48.3185181,\n",
       " 'maxlon': 34.2378723}"
      ]
     },
     "execution_count": 18,
     "metadata": {},
     "output_type": "execute_result"
    }
   ],
   "source": [
    "# Get a bounds of the Sviatohirsk city from OpenStreetMap API\n",
    "# https://wiki.openstreetmap.org/wiki/Overpass_API\n",
    "import requests\n",
    "\n",
    "city_name = 'Кривий Ріг'\n",
    "city_name_en = \"Kryvyi Rih, Ukraine\"\n",
    "url = f'https://overpass-api.de/api/interpreter?data=[out:json]; area[name=\"{city_name}\"] -> .a; ( relation(area.a)[admin_level]; ); out geom;'\n",
    "print(url)\n",
    "\n",
    "response = requests.get(url)\n",
    "data = response.json()\n",
    "bounds = data['elements'][0]['bounds']\n",
    "\n",
    "# Make a geojson file with bounds as a polygon\n",
    "geoJSON = {\n",
    "    \"type\": \"FeatureCollection\",\n",
    "    \"features\": [\n",
    "        {\n",
    "            \"type\": \"Feature\",\n",
    "            \"properties\": {},\n",
    "            \"geometry\":\n",
    "            {\n",
    "                \"type\": \"Polygon\",\n",
    "                \"coordinates\": [\n",
    "                    [\n",
    "                        [bounds['minlon'], bounds['minlat']],\n",
    "                        [bounds['minlon'], bounds['maxlat']],\n",
    "                        [bounds['maxlon'], bounds['maxlat']],\n",
    "                        [bounds['maxlon'], bounds['minlat']],\n",
    "                        [bounds['minlon'], bounds['minlat']]\n",
    "                    ]\n",
    "                ]\n",
    "            }\n",
    "        }\n",
    "    ]\n",
    "}\n",
    "\n",
    "bounds"
   ]
  },
  {
   "cell_type": "code",
   "execution_count": 19,
   "metadata": {},
   "outputs": [
    {
     "data": {
      "text/html": [
       "<div style=\"width:100%;\"><div style=\"position:relative;width:100%;height:0;padding-bottom:60%;\"><span style=\"color:#565656\">Make this Notebook Trusted to load map: File -> Trust Notebook</span><iframe srcdoc=\"&lt;!DOCTYPE html&gt;\n",
       "&lt;html&gt;\n",
       "&lt;head&gt;\n",
       "    \n",
       "    &lt;meta http-equiv=&quot;content-type&quot; content=&quot;text/html; charset=UTF-8&quot; /&gt;\n",
       "    \n",
       "        &lt;script&gt;\n",
       "            L_NO_TOUCH = false;\n",
       "            L_DISABLE_3D = false;\n",
       "        &lt;/script&gt;\n",
       "    \n",
       "    &lt;style&gt;html, body {width: 100%;height: 100%;margin: 0;padding: 0;}&lt;/style&gt;\n",
       "    &lt;style&gt;#map {position:absolute;top:0;bottom:0;right:0;left:0;}&lt;/style&gt;\n",
       "    &lt;script src=&quot;https://cdn.jsdelivr.net/npm/leaflet@1.9.3/dist/leaflet.js&quot;&gt;&lt;/script&gt;\n",
       "    &lt;script src=&quot;https://code.jquery.com/jquery-3.7.1.min.js&quot;&gt;&lt;/script&gt;\n",
       "    &lt;script src=&quot;https://cdn.jsdelivr.net/npm/bootstrap@5.2.2/dist/js/bootstrap.bundle.min.js&quot;&gt;&lt;/script&gt;\n",
       "    &lt;script src=&quot;https://cdnjs.cloudflare.com/ajax/libs/Leaflet.awesome-markers/2.0.2/leaflet.awesome-markers.js&quot;&gt;&lt;/script&gt;\n",
       "    &lt;link rel=&quot;stylesheet&quot; href=&quot;https://cdn.jsdelivr.net/npm/leaflet@1.9.3/dist/leaflet.css&quot;/&gt;\n",
       "    &lt;link rel=&quot;stylesheet&quot; href=&quot;https://cdn.jsdelivr.net/npm/bootstrap@5.2.2/dist/css/bootstrap.min.css&quot;/&gt;\n",
       "    &lt;link rel=&quot;stylesheet&quot; href=&quot;https://netdna.bootstrapcdn.com/bootstrap/3.0.0/css/bootstrap.min.css&quot;/&gt;\n",
       "    &lt;link rel=&quot;stylesheet&quot; href=&quot;https://cdn.jsdelivr.net/npm/@fortawesome/fontawesome-free@6.2.0/css/all.min.css&quot;/&gt;\n",
       "    &lt;link rel=&quot;stylesheet&quot; href=&quot;https://cdnjs.cloudflare.com/ajax/libs/Leaflet.awesome-markers/2.0.2/leaflet.awesome-markers.css&quot;/&gt;\n",
       "    &lt;link rel=&quot;stylesheet&quot; href=&quot;https://cdn.jsdelivr.net/gh/python-visualization/folium/folium/templates/leaflet.awesome.rotate.min.css&quot;/&gt;\n",
       "    \n",
       "            &lt;meta name=&quot;viewport&quot; content=&quot;width=device-width,\n",
       "                initial-scale=1.0, maximum-scale=1.0, user-scalable=no&quot; /&gt;\n",
       "            &lt;style&gt;\n",
       "                #map_13fd0a8d8574a7e187a927b34ba7542d {\n",
       "                    position: relative;\n",
       "                    width: 100.0%;\n",
       "                    height: 100.0%;\n",
       "                    left: 0.0%;\n",
       "                    top: 0.0%;\n",
       "                }\n",
       "                .leaflet-container { font-size: 1rem; }\n",
       "            &lt;/style&gt;\n",
       "        \n",
       "&lt;/head&gt;\n",
       "&lt;body&gt;\n",
       "    \n",
       "    \n",
       "            &lt;div class=&quot;folium-map&quot; id=&quot;map_13fd0a8d8574a7e187a927b34ba7542d&quot; &gt;&lt;/div&gt;\n",
       "        \n",
       "&lt;/body&gt;\n",
       "&lt;script&gt;\n",
       "    \n",
       "    \n",
       "            var map_13fd0a8d8574a7e187a927b34ba7542d = L.map(\n",
       "                &quot;map_13fd0a8d8574a7e187a927b34ba7542d&quot;,\n",
       "                {\n",
       "                    center: [47.8875668, 33.59871205],\n",
       "                    crs: L.CRS.EPSG3857,\n",
       "                    zoom: 11,\n",
       "                    zoomControl: true,\n",
       "                    preferCanvas: false,\n",
       "                }\n",
       "            );\n",
       "\n",
       "            \n",
       "\n",
       "        \n",
       "    \n",
       "            var tile_layer_8c55fc42bdd1eded4b68815a1f49b26a = L.tileLayer(\n",
       "                &quot;https://tile.openstreetmap.org/{z}/{x}/{y}.png&quot;,\n",
       "                {&quot;attribution&quot;: &quot;\\u0026copy; \\u003ca href=\\&quot;https://www.openstreetmap.org/copyright\\&quot;\\u003eOpenStreetMap\\u003c/a\\u003e contributors&quot;, &quot;detectRetina&quot;: false, &quot;maxNativeZoom&quot;: 19, &quot;maxZoom&quot;: 19, &quot;minZoom&quot;: 0, &quot;noWrap&quot;: false, &quot;opacity&quot;: 1, &quot;subdomains&quot;: &quot;abc&quot;, &quot;tms&quot;: false}\n",
       "            );\n",
       "        \n",
       "    \n",
       "            tile_layer_8c55fc42bdd1eded4b68815a1f49b26a.addTo(map_13fd0a8d8574a7e187a927b34ba7542d);\n",
       "        \n",
       "    \n",
       "\n",
       "        function geo_json_8014b37249603ac5379334de2a2c18ca_onEachFeature(feature, layer) {\n",
       "            layer.on({\n",
       "            });\n",
       "        };\n",
       "        var geo_json_8014b37249603ac5379334de2a2c18ca = L.geoJson(null, {\n",
       "                onEachFeature: geo_json_8014b37249603ac5379334de2a2c18ca_onEachFeature,\n",
       "            \n",
       "        });\n",
       "\n",
       "        function geo_json_8014b37249603ac5379334de2a2c18ca_add (data) {\n",
       "            geo_json_8014b37249603ac5379334de2a2c18ca\n",
       "                .addData(data);\n",
       "        }\n",
       "            geo_json_8014b37249603ac5379334de2a2c18ca_add({&quot;features&quot;: [{&quot;geometry&quot;: {&quot;coordinates&quot;: [[[32.9595518, 47.4566155], [32.9595518, 48.3185181], [34.2378723, 48.3185181], [34.2378723, 47.4566155], [32.9595518, 47.4566155]]], &quot;type&quot;: &quot;Polygon&quot;}, &quot;properties&quot;: {}, &quot;type&quot;: &quot;Feature&quot;}], &quot;type&quot;: &quot;FeatureCollection&quot;});\n",
       "\n",
       "        \n",
       "    \n",
       "            geo_json_8014b37249603ac5379334de2a2c18ca.addTo(map_13fd0a8d8574a7e187a927b34ba7542d);\n",
       "        \n",
       "&lt;/script&gt;\n",
       "&lt;/html&gt;\" style=\"position:absolute;width:100%;height:100%;left:0;top:0;border:none !important;\" allowfullscreen webkitallowfullscreen mozallowfullscreen></iframe></div></div>"
      ],
      "text/plain": [
       "<folium.folium.Map at 0x29187fcc290>"
      ]
     },
     "execution_count": 19,
     "metadata": {},
     "output_type": "execute_result"
    }
   ],
   "source": [
    "# Plot the bounds on the map with folium\n",
    "# https://python-visualization.github.io/folium/\n",
    "\n",
    "import folium\n",
    "import json\n",
    "\n",
    "center=[(bounds['minlat'] + bounds['maxlat']) / 2, (bounds['minlon'] + bounds['maxlon']) / 2]\n",
    "m = folium.Map(location=center, zoom_start=11)\n",
    "folium.GeoJson(json.dumps(geoJSON)).add_to(m)\n",
    "m"
   ]
  },
  {
   "cell_type": "code",
   "execution_count": 20,
   "metadata": {},
   "outputs": [],
   "source": [
    "\n",
    "import pandas as pd\n",
    "import geopandas as gpd\n"
   ]
  },
  {
   "cell_type": "code",
   "execution_count": 21,
   "metadata": {},
   "outputs": [
    {
     "name": "stdout",
     "output_type": "stream",
     "text": [
      "Quadkey coordinates of the city:\n"
     ]
    },
    {
     "data": {
      "text/plain": [
       "('120321132113', '120330002121')"
      ]
     },
     "execution_count": 21,
     "metadata": {},
     "output_type": "execute_result"
    }
   ],
   "source": [
    "# Translate Lat/Lon bounds of the city to Quadkeys to download building footprints\n",
    "import math\n",
    "\n",
    "def lat_lon_to_pixel(latitude, longitude, zoom):\n",
    "    sinLatitude = math.sin(latitude * math.pi/180)\n",
    "    pixelX = ((longitude + 180) / 360) * 256 * 2**zoom\n",
    "    pixelY = (0.5 - math.log((1 + sinLatitude) / (1 - sinLatitude)) / (4 * math.pi)) * 256 * 2**zoom\n",
    "    return pixelX, pixelY\n",
    "\n",
    "def pixel_to_tile(pixelX, pixelY):\n",
    "    return int(math.floor(pixelX / 256)), int(math.floor(pixelY / 256))\n",
    "\n",
    "def tile_to_quadkey(tileX, tileY, zoom):\n",
    "    quadkey = \"\"\n",
    "    for i in range(zoom, 0, -1):\n",
    "        digit = 0\n",
    "        mask = 1 << (i - 1)\n",
    "        if (tileX & mask) != 0:\n",
    "            digit += 1\n",
    "        if (tileY & mask) != 0:\n",
    "            digit += 2\n",
    "        quadkey += str(digit)\n",
    "    return quadkey\n",
    "\n",
    "# Define the bounding box for Sviatohirsk\n",
    "minlat, minlon, maxlat, maxlon = bounds['minlat'], bounds['minlon'], bounds['maxlat'], bounds['maxlon']\n",
    "\n",
    "# Choose a zoom level (adjust as needed to cover the city area)\n",
    "zoom_level = 12\n",
    "\n",
    "# Convert the bounding box corners to pixel coordinates\n",
    "min_pixelX, min_pixelY = lat_lon_to_pixel(minlat, minlon, zoom_level)\n",
    "max_pixelX, max_pixelY = lat_lon_to_pixel(maxlat, maxlon, zoom_level)\n",
    "\n",
    "# Convert pixel coordinates to tile coordinates\n",
    "min_tileX, min_tileY = pixel_to_tile(min_pixelX, min_pixelY)\n",
    "max_tileX, max_tileY = pixel_to_tile(max_pixelX, max_pixelY)\n",
    "\n",
    "# Find Quadkeys for each corner (you might need to find all Quadkeys in the range for full coverage)\n",
    "quadkey_min = tile_to_quadkey(min_tileX, min_tileY, zoom_level)\n",
    "quadkey_max = tile_to_quadkey(max_tileX, max_tileY, zoom_level)\n",
    "\n",
    "\n",
    "# Remove three last digits from the quadkey\n",
    "# quadkey_min = quadkey_min[:-3]\n",
    "# quadkey_max = quadkey_max[:-3]\n",
    "\n",
    "print('Quadkey coordinates of the city:')\n",
    "quadkey_min, quadkey_max"
   ]
  },
  {
   "cell_type": "code",
   "execution_count": 22,
   "metadata": {},
   "outputs": [
    {
     "data": {
      "text/plain": [
       "[120330020,\n",
       " 120330022,\n",
       " 120321130,\n",
       " 120321131,\n",
       " 120321132,\n",
       " 120321133,\n",
       " 120330002,\n",
       " 120321112,\n",
       " 120321113]"
      ]
     },
     "execution_count": 22,
     "metadata": {},
     "output_type": "execute_result"
    }
   ],
   "source": [
    "# Adjusting the approach to account for the full-length Quadkeys\n",
    "\n",
    "# Define the full-length Quadkeys\n",
    "def quadkey_to_tile(quadkey):\n",
    "    tileX, tileY = 0, 0\n",
    "    zoom = len(quadkey)\n",
    "    for i in range(zoom, 0, -1):\n",
    "        mask = 1 << (i - 1)\n",
    "        if quadkey[zoom - i] == '1':\n",
    "            tileX |= mask\n",
    "        elif quadkey[zoom - i] == '2':\n",
    "            tileY |= mask\n",
    "        elif quadkey[zoom - i] == '3':\n",
    "            tileX |= mask\n",
    "            tileY |= mask\n",
    "    return tileX, tileY, zoom\n",
    "\n",
    "# Convert full-length Quadkeys back to tile coordinates\n",
    "min_tileX, min_tileY, zoom = quadkey_to_tile(quadkey_min)\n",
    "max_tileX, max_tileY, _ = quadkey_to_tile(quadkey_max)\n",
    "\n",
    "# Ensure the min and max tile ranges are valid\n",
    "min_tileX, max_tileX = sorted([min_tileX, max_tileX])\n",
    "min_tileY, max_tileY = sorted([min_tileY, max_tileY])\n",
    "\n",
    "# Generate list of all Quadkeys in the bounding box\n",
    "all_quadkeys = []\n",
    "for tileX in range(min_tileX, max_tileX + 1):\n",
    "    for tileY in range(min_tileY, max_tileY + 1):\n",
    "        all_quadkeys.append(tile_to_quadkey(tileX, tileY, len(quadkey_min)))\n",
    "\n",
    "all_quadkeys_cropped = list(set(map(lambda x: int(x[:-3]), all_quadkeys)))\n",
    "all_quadkeys_cropped"
   ]
  },
  {
   "cell_type": "code",
   "execution_count": 23,
   "metadata": {},
   "outputs": [],
   "source": [
    "# https://github.com/microsoft/GlobalMLBuildingFootprints/blob/main/scripts/make-gis-friendly.py\n",
    "\n",
    "# Get polygons of building footprints for selected bounding box from Microsoft Building Footprints dataset\n",
    "from shapely.geometry import shape\n",
    "import os\n",
    "\n",
    "# check if file not exists\n",
    "if not os.path.exists(f'./{city_name.replace(\" \",\"_\")}_footprints.geojson'):\n",
    "\n",
    "    # this is the name of the geography you want to retrieve. update to meet your needs\n",
    "    location = 'Ukraine'\n",
    "\n",
    "    dataset_links = pd.read_csv(\"https://minedbuildings.blob.core.windows.net/global-buildings/dataset-links.csv\")\n",
    "    ukraine_links = dataset_links[dataset_links.Location == location]\n",
    "    sviatohirsk_links = ukraine_links[ukraine_links.QuadKey.isin(all_quadkeys_cropped)]\n",
    "\n",
    "    print('Total Links: ', len(sviatohirsk_links))\n",
    "\n",
    "\n",
    "    footprints = []\n",
    "    for _, row in sviatohirsk_links.iterrows():\n",
    "        df = pd.read_json(row.Url, lines=True)\n",
    "        df['geometry'] = df['geometry'].apply(shape)\n",
    "        footprints.append(gpd.GeoDataFrame(df, crs=4326))\n",
    "\n",
    "    footprints = pd.concat(footprints)\n",
    "\n",
    "    # Filter footprints by the city bounds\n",
    "    footprints.cx[minlon:maxlon, minlat:maxlat].to_file(f'./{city_name.replace(\" \",\"_\")}_footprints.geojson', driver='GeoJSON')"
   ]
  },
  {
   "cell_type": "code",
   "execution_count": 24,
   "metadata": {},
   "outputs": [],
   "source": [
    "# filter footprints by the city polygon with admin boundaries\n",
    "# Load the city polygon\n",
    "city_polygon = gpd.read_file(f'./{city_name.replace(\" \",\"_\")}_boundary.geojson')\n",
    "\n",
    "# check if file not exists\n",
    "if not os.path.exists(f'./{city_name.replace(\" \",\"_\")}_footprints_filtered.geojson'):\n",
    "\n",
    "    # Filter footprints by the city polygon\n",
    "    footprints_filtered = gpd.overlay(footprints, city_polygon, how='intersection')\n",
    "    footprints_filtered.to_file(f'./{city_name.replace(\" \",\"_\")}_footprints_filtered.geojson', driver='GeoJSON')\n"
   ]
  },
  {
   "cell_type": "code",
   "execution_count": 25,
   "metadata": {},
   "outputs": [],
   "source": [
    "# show resulting buildings with folium\n",
    "# m = folium.Map(location=center, zoom_start=11)\n",
    "# folium.GeoJson(json.dumps(geoJSON)).add_to(m)\n",
    "# folium.GeoJson(f'./{city_name.replace(\" \",\"_\")}_footprints_filtered.geojson').add_to(m)\n",
    "# m"
   ]
  },
  {
   "cell_type": "code",
   "execution_count": 26,
   "metadata": {},
   "outputs": [
    {
     "name": "stdout",
     "output_type": "stream",
     "text": [
      "Requirement already satisfied: osmnx in c:\\0_workspace\\1_projects\\8_ro3kvit\\general_data\\satellite-analysis\\.conda\\lib\\site-packages (1.9.1)\n",
      "Requirement already satisfied: geopandas>=0.12 in c:\\0_workspace\\1_projects\\8_ro3kvit\\general_data\\satellite-analysis\\.conda\\lib\\site-packages (from osmnx) (0.14.3)\n",
      "Requirement already satisfied: networkx>=2.5 in c:\\0_workspace\\1_projects\\8_ro3kvit\\general_data\\satellite-analysis\\.conda\\lib\\site-packages (from osmnx) (3.2.1)\n",
      "Requirement already satisfied: numpy>=1.20 in c:\\0_workspace\\1_projects\\8_ro3kvit\\general_data\\satellite-analysis\\.conda\\lib\\site-packages (from osmnx) (1.26.4)\n",
      "Requirement already satisfied: pandas>=1.1 in c:\\0_workspace\\1_projects\\8_ro3kvit\\general_data\\satellite-analysis\\.conda\\lib\\site-packages (from osmnx) (2.2.0)\n",
      "Requirement already satisfied: requests>=2.27 in c:\\0_workspace\\1_projects\\8_ro3kvit\\general_data\\satellite-analysis\\.conda\\lib\\site-packages (from osmnx) (2.31.0)\n",
      "Requirement already satisfied: shapely>=2.0 in c:\\0_workspace\\1_projects\\8_ro3kvit\\general_data\\satellite-analysis\\.conda\\lib\\site-packages (from osmnx) (2.0.2)\n",
      "Requirement already satisfied: fiona>=1.8.21 in c:\\0_workspace\\1_projects\\8_ro3kvit\\general_data\\satellite-analysis\\.conda\\lib\\site-packages (from geopandas>=0.12->osmnx) (1.9.5)\n",
      "Requirement already satisfied: packaging in c:\\0_workspace\\1_projects\\8_ro3kvit\\general_data\\satellite-analysis\\.conda\\lib\\site-packages (from geopandas>=0.12->osmnx) (23.2)\n",
      "Requirement already satisfied: pyproj>=3.3.0 in c:\\0_workspace\\1_projects\\8_ro3kvit\\general_data\\satellite-analysis\\.conda\\lib\\site-packages (from geopandas>=0.12->osmnx) (3.6.1)\n",
      "Requirement already satisfied: python-dateutil>=2.8.2 in c:\\0_workspace\\1_projects\\8_ro3kvit\\general_data\\satellite-analysis\\.conda\\lib\\site-packages (from pandas>=1.1->osmnx) (2.8.2)\n",
      "Requirement already satisfied: pytz>=2020.1 in c:\\0_workspace\\1_projects\\8_ro3kvit\\general_data\\satellite-analysis\\.conda\\lib\\site-packages (from pandas>=1.1->osmnx) (2024.1)\n",
      "Requirement already satisfied: tzdata>=2022.7 in c:\\0_workspace\\1_projects\\8_ro3kvit\\general_data\\satellite-analysis\\.conda\\lib\\site-packages (from pandas>=1.1->osmnx) (2023.4)\n",
      "Requirement already satisfied: charset-normalizer<4,>=2 in c:\\0_workspace\\1_projects\\8_ro3kvit\\general_data\\satellite-analysis\\.conda\\lib\\site-packages (from requests>=2.27->osmnx) (3.3.2)\n",
      "Requirement already satisfied: idna<4,>=2.5 in c:\\0_workspace\\1_projects\\8_ro3kvit\\general_data\\satellite-analysis\\.conda\\lib\\site-packages (from requests>=2.27->osmnx) (3.6)\n",
      "Requirement already satisfied: urllib3<3,>=1.21.1 in c:\\0_workspace\\1_projects\\8_ro3kvit\\general_data\\satellite-analysis\\.conda\\lib\\site-packages (from requests>=2.27->osmnx) (2.2.0)\n",
      "Requirement already satisfied: certifi>=2017.4.17 in c:\\0_workspace\\1_projects\\8_ro3kvit\\general_data\\satellite-analysis\\.conda\\lib\\site-packages (from requests>=2.27->osmnx) (2024.2.2)\n",
      "Requirement already satisfied: attrs>=19.2.0 in c:\\0_workspace\\1_projects\\8_ro3kvit\\general_data\\satellite-analysis\\.conda\\lib\\site-packages (from fiona>=1.8.21->geopandas>=0.12->osmnx) (23.2.0)\n",
      "Requirement already satisfied: click~=8.0 in c:\\0_workspace\\1_projects\\8_ro3kvit\\general_data\\satellite-analysis\\.conda\\lib\\site-packages (from fiona>=1.8.21->geopandas>=0.12->osmnx) (8.1.7)\n",
      "Requirement already satisfied: click-plugins>=1.0 in c:\\0_workspace\\1_projects\\8_ro3kvit\\general_data\\satellite-analysis\\.conda\\lib\\site-packages (from fiona>=1.8.21->geopandas>=0.12->osmnx) (1.1.1)\n",
      "Requirement already satisfied: cligj>=0.5 in c:\\0_workspace\\1_projects\\8_ro3kvit\\general_data\\satellite-analysis\\.conda\\lib\\site-packages (from fiona>=1.8.21->geopandas>=0.12->osmnx) (0.7.2)\n",
      "Requirement already satisfied: six in c:\\0_workspace\\1_projects\\8_ro3kvit\\general_data\\satellite-analysis\\.conda\\lib\\site-packages (from fiona>=1.8.21->geopandas>=0.12->osmnx) (1.16.0)\n",
      "Requirement already satisfied: setuptools in c:\\0_workspace\\1_projects\\8_ro3kvit\\general_data\\satellite-analysis\\.conda\\lib\\site-packages (from fiona>=1.8.21->geopandas>=0.12->osmnx) (69.0.3)\n",
      "Requirement already satisfied: colorama in c:\\0_workspace\\1_projects\\8_ro3kvit\\general_data\\satellite-analysis\\.conda\\lib\\site-packages (from click~=8.0->fiona>=1.8.21->geopandas>=0.12->osmnx) (0.4.6)\n",
      "Note: you may need to restart the kernel to use updated packages.\n"
     ]
    }
   ],
   "source": [
    "%pip install osmnx"
   ]
  },
  {
   "cell_type": "code",
   "execution_count": 27,
   "metadata": {},
   "outputs": [
    {
     "name": "stderr",
     "output_type": "stream",
     "text": [
      "C:\\Users\\klopa\\AppData\\Local\\Temp\\ipykernel_6608\\3149281314.py:13: FutureWarning: The `utils.config` function is deprecated and will be removed in the v2.0.0 release. Instead, use the `settings` module directly to configure a global setting's value. For example, `ox.settings.log_console=True`.\n",
      "  ox.config(use_cache=True, log_console=True)\n",
      "C:\\Users\\klopa\\AppData\\Local\\Temp\\ipykernel_6608\\3149281314.py:16: FutureWarning: The `geometries` module and `geometries_from_X` functions have been renamed the `features` module and `features_from_X` functions. Use these instead. The `geometries` module and function names are deprecated and will be removed in the v2.0.0 release.\n",
      "  buildings_gdf = ox.geometries_from_place(city_name, tags={'building': True})\n"
     ]
    },
    {
     "name": "stdout",
     "output_type": "stream",
     "text": [
      "GeoJSON file has been saved to ./Кривий_Ріг_osm_buildings.geojson\n"
     ]
    }
   ],
   "source": [
    "import osmnx as ox\n",
    "import geopandas as gpd\n",
    "\n",
    "def download_buildings_and_convert_to_geojson(city_name, output_filename):\n",
    "    \"\"\"\n",
    "    Download all buildings from a specified city using OSM and convert them to GeoJSON.\n",
    "    \n",
    "    Args:\n",
    "    - city_name: The name of the city to download buildings from.\n",
    "    - output_filename: The filename for the output GeoJSON file.\n",
    "    \"\"\"\n",
    "    # Configure osmnx to retrieve buildings only\n",
    "    ox.config(use_cache=True, log_console=True)\n",
    "    \n",
    "    # Retrieve buildings from the specified city\n",
    "    buildings_gdf = ox.geometries_from_place(city_name, tags={'building': True})\n",
    "    \n",
    "    # Convert the GeoDataFrame to GeoJSON format\n",
    "    buildings_geojson = buildings_gdf.to_json()\n",
    "    \n",
    "    # Save the GeoJSON to a file\n",
    "    with open(output_filename, 'w') as f:\n",
    "        f.write(buildings_geojson)\n",
    "    \n",
    "    print(f\"GeoJSON file has been saved to {output_filename}\")\n",
    "\n",
    "# Example usage\n",
    "\n",
    "download_buildings_and_convert_to_geojson(city_name_en, f'./{city_name.replace(\" \",\"_\")}_osm_buildings.geojson')\n"
   ]
  },
  {
   "cell_type": "code",
   "execution_count": null,
   "metadata": {},
   "outputs": [],
   "source": [
    "%pip install matplotlib"
   ]
  },
  {
   "cell_type": "code",
   "execution_count": 30,
   "metadata": {},
   "outputs": [
    {
     "data": {
      "text/plain": [
       "<Axes: >"
      ]
     },
     "execution_count": 30,
     "metadata": {},
     "output_type": "execute_result"
    },
    {
     "data": {
      "image/png": "[encoded data removed]",
      "text/plain": [
       "<Figure size 640x480 with 1 Axes>"
      ]
     },
     "metadata": {},
     "output_type": "display_data"
    }
   ],
   "source": [
    "# plot the result on map with gpd plot\n",
    "gpd.read_file(f'./{city_name.replace(\" \",\"_\")}_footprints_filtered.geojson').plot()"
   ]
  },
  {
   "cell_type": "code",
   "execution_count": 32,
   "metadata": {},
   "outputs": [],
   "source": [
    "# join osm_footprints and microsoft_footprints abd delete those osm polygons that intersect with microsoft polygons\n",
    "\n",
    "# Load the footprints from Microsoft Building Footprints dataset\n",
    "microsoft_footprints = gpd.read_file(f'./{city_name.replace(\" \",\"_\")}_footprints_filtered.geojson')\n",
    "\n",
    "# Load the footprints from OSM\n",
    "osm_footprints = gpd.read_file(f'./{city_name.replace(\" \",\"_\")}_osm_buildings.geojson')\n",
    "\n",
    "# filter out only polygons in osm_footprints\n",
    "osm_footprints = osm_footprints[osm_footprints['geometry'].type == 'Polygon']\n",
    "\n",
    "# Perform a spatial join to find the intersections\n",
    "intersections = gpd.overlay(osm_footprints, microsoft_footprints, how='intersection')\n",
    "\n",
    "# Remove the intersecting footprints from the OSM dataset\n",
    "osm_footprints = osm_footprints[~osm_footprints.index.isin(intersections.index)]\n",
    "\n",
    "# join osm_footprins and microsoft_footprints\n",
    "all_footprints = pd.concat([microsoft_footprints, osm_footprints])\n",
    "\n",
    "# Save the result to a new GeoJSON file\n",
    "all_footprints.to_file(f'./{city_name.replace(\" \",\"_\")}_all_footprints.geojson', driver='GeoJSON')"
   ]
  }
 ],
 "metadata": {
  "kernelspec": {
   "display_name": "Python 3",
   "language": "python",
   "name": "python3"
  },
  "language_info": {
   "codemirror_mode": {
    "name": "ipython",
    "version": 3
   },
   "file_extension": ".py",
   "mimetype": "text/x-python",
   "name": "python",
   "nbconvert_exporter": "python",
   "pygments_lexer": "ipython3",
   "version": "3.11.7"
  }
 },
 "nbformat": 4,
 "nbformat_minor": 2
}
