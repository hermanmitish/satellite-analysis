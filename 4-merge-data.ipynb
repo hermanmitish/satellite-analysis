{
 "cells": [
  {
   "cell_type": "code",
   "execution_count": 2,
   "metadata": {},
   "outputs": [],
   "source": [
    "import pandas as pd\n",
    "import geopandas as gpd\n",
    "import os"
   ]
  },
  {
   "cell_type": "code",
   "execution_count": 3,
   "metadata": {},
   "outputs": [],
   "source": [
    "# List all files in ./data/processed \n",
    "files = os.listdir('./data/processed')\n",
    "\n",
    "# filter files with 'grid' in the name\n",
    "grid_files = [f for f in files if 'grid' in f]\n",
    "\n",
    "footprints_files = [f for f in files if 'aggregated' in f]\n"
   ]
  },
  {
   "cell_type": "code",
   "execution_count": 44,
   "metadata": {},
   "outputs": [
    {
     "name": "stderr",
     "output_type": "stream",
     "text": [
      "/Users/hermanmitish/private/satellite-analysis/.conda/lib/python3.11/site-packages/geopandas/geodataframe.py:1525: SettingWithCopyWarning: \n",
      "A value is trying to be set on a copy of a slice from a DataFrame.\n",
      "Try using .loc[row_indexer,col_indexer] = value instead\n",
      "\n",
      "See the caveats in the documentation: https://pandas.pydata.org/pandas-docs/stable/user_guide/indexing.html#returning-a-view-versus-a-copy\n",
      "  super().__setitem__(key, value)\n",
      "/Users/hermanmitish/private/satellite-analysis/.conda/lib/python3.11/site-packages/geopandas/geodataframe.py:1525: SettingWithCopyWarning: \n",
      "A value is trying to be set on a copy of a slice from a DataFrame.\n",
      "Try using .loc[row_indexer,col_indexer] = value instead\n",
      "\n",
      "See the caveats in the documentation: https://pandas.pydata.org/pandas-docs/stable/user_guide/indexing.html#returning-a-view-versus-a-copy\n",
      "  super().__setitem__(key, value)\n",
      "/Users/hermanmitish/private/satellite-analysis/.conda/lib/python3.11/site-packages/geopandas/geodataframe.py:1525: SettingWithCopyWarning: \n",
      "A value is trying to be set on a copy of a slice from a DataFrame.\n",
      "Try using .loc[row_indexer,col_indexer] = value instead\n",
      "\n",
      "See the caveats in the documentation: https://pandas.pydata.org/pandas-docs/stable/user_guide/indexing.html#returning-a-view-versus-a-copy\n",
      "  super().__setitem__(key, value)\n",
      "/Users/hermanmitish/private/satellite-analysis/.conda/lib/python3.11/site-packages/geopandas/geodataframe.py:1525: SettingWithCopyWarning: \n",
      "A value is trying to be set on a copy of a slice from a DataFrame.\n",
      "Try using .loc[row_indexer,col_indexer] = value instead\n",
      "\n",
      "See the caveats in the documentation: https://pandas.pydata.org/pandas-docs/stable/user_guide/indexing.html#returning-a-view-versus-a-copy\n",
      "  super().__setitem__(key, value)\n"
     ]
    }
   ],
   "source": [
    "# Each file in those lists has exactly the same dataset, in the same order of rows, but varying values in the column \"value\" and \"timestamp\"\n",
    "# We will merge all those files into a single file, with the same structure, but with the max value of \"value\" and the corresponding value of \"timestamp\"\n",
    "\n",
    "grid_datasets = [gpd.read_file('./data/processed/' + f) for f in grid_files]\n",
    "footprints_datasets = [gpd.read_file('./data/processed/' + f) for f in footprints_files]\n",
    "\n",
    "def merge_by_max_value(frames:list[pd.DataFrame]):\n",
    "    # Concatenate the GeoDataFrame, including 'geometry' only from the first one\n",
    "    concat = pd.concat(\n",
    "        [frames[0][['geometry', 'timestamp', 'value']]] +\n",
    "        [df[['timestamp', 'value']] for df in frames[1:]],\n",
    "        axis=1\n",
    "    )\n",
    "\n",
    "    # Generate new column names for 'timestamp' and 'value' to avoid overlap\n",
    "    new_col_names = []\n",
    "    for i, df in enumerate(frames):\n",
    "        new_col_names.extend([f'timestamp_{i}', f'value_{i}'])\n",
    "    concat.columns = ['geometry'] + new_col_names\n",
    "\n",
    "    # Calculate the maximum 'value' across all files for each row\n",
    "    max_values = concat.filter(like='value_').max(axis=1)\n",
    "\n",
    "    # Find the index (position) of the maximum 'value' to determine the corresponding 'timestamp'\n",
    "    max_value_positions = concat.filter(like='value_').idxmax(axis=1)\n",
    "    concat['max_value_positions'] = max_value_positions.apply(lambda x: x.replace('value', 'timestamp'))\n",
    "    concat['max_value_timestamp'] = concat.apply(lambda row: row[row['max_value_positions']], axis=1)\n",
    "    # Create the final GeoDataFrame\n",
    "    grid_final = concat[['geometry']]\n",
    "    grid_final['value'] = max_values\n",
    "    grid_final['timestamp'] = concat['max_value_timestamp']\n",
    "    grid_final = gpd.GeoDataFrame(grid_final, geometry='geometry')\n",
    "    return grid_final\n",
    "\n",
    "merge_by_max_value(grid_datasets).to_file('./data/grid_final.geojson', driver='GeoJSON')\n",
    "merge_by_max_value(footprints_datasets).to_file('./data/footprints_final.geojson', driver='GeoJSON')"
   ]
  }
 ],
 "metadata": {
  "kernelspec": {
   "display_name": "Python 3",
   "language": "python",
   "name": "python3"
  },
  "language_info": {
   "codemirror_mode": {
    "name": "ipython",
    "version": 3
   },
   "file_extension": ".py",
   "mimetype": "text/x-python",
   "name": "python",
   "nbconvert_exporter": "python",
   "pygments_lexer": "ipython3",
   "version": "3.11.7"
  }
 },
 "nbformat": 4,
 "nbformat_minor": 2
}
