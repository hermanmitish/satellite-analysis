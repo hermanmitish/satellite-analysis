{
 "cells": [
  {
   "cell_type": "markdown",
   "metadata": {},
   "source": [
    "# Raster Tiles\n",
    "### This script will use GDAL, and it's command line tool ogr2ogr, to generate raster tiles from GeoTIFF rasters\n",
    "- We will do that to convert two satellite images - from before and after of russian full scalle invasion started\n",
    "- We downloaded those images from Google Earth Pro, historical imagery, in the non-georeferenced png format. Then we georeferenced it in QGIS with the manual reference points\n",
    "- Following data then have to be uploaded to cloud storage with the same folder structure, and then could be added as a layer in Mapbox\n",
    "- Geotiff files should be loaded to the ./data/geotiff/ in order to be converted\n"
   ]
  },
  {
   "cell_type": "code",
   "execution_count": 6,
   "metadata": {},
   "outputs": [],
   "source": [
    "import os\n",
    "# Make ./data directory if it doesn't exist\n",
    "if not os.path.exists('./data/raster_tiles'):\n",
    "    os.makedirs('./data/raster_tiles')"
   ]
  },
  {
   "cell_type": "code",
   "execution_count": 10,
   "metadata": {},
   "outputs": [
    {
     "name": "stdout",
     "output_type": "stream",
     "text": [
      "There are 2 tif files in ./data/geotiff\n"
     ]
    },
    {
     "data": {
      "text/plain": [
       "['./data/geotiff/shot-2022-08-07_modified.tif',\n",
       " './data/geotiff/shot-2018-08-25_modified.tif']"
      ]
     },
     "execution_count": 10,
     "metadata": {},
     "output_type": "execute_result"
    }
   ],
   "source": [
    "# Read tif files from ./data/geotiff\n",
    "tiffs = [f'./data/geotiff/{f}' for f in os.listdir('./data/geotiff') if f.endswith('.tif')]\n",
    "print(f'There are {len(tiffs)} tif files in ./data/geotiff')\n",
    "tiffs\n"
   ]
  },
  {
   "cell_type": "code",
   "execution_count": 11,
   "metadata": {},
   "outputs": [],
   "source": [
    "min_zoom = '8'  # Set your minimum zoom level here\n",
    "max_zoom = '17'  # Set your maximum zoom level here"
   ]
  },
  {
   "cell_type": "code",
   "execution_count": 12,
   "metadata": {},
   "outputs": [
    {
     "name": "stderr",
     "output_type": "stream",
     "text": [
      "Generating Base Tiles:\n"
     ]
    },
    {
     "name": "stdout",
     "output_type": "stream",
     "text": [
      "0...10...20...30...40...50...60...70...80...90...100 - done.\n",
      "0.."
     ]
    },
    {
     "name": "stderr",
     "output_type": "stream",
     "text": [
      "Generating Overview Tiles:\n"
     ]
    },
    {
     "name": "stdout",
     "output_type": "stream",
     "text": [
      ".10...20...30...40...50...60...70...80...90...100 - done.\n"
     ]
    },
    {
     "name": "stderr",
     "output_type": "stream",
     "text": [
      "Generating Base Tiles:\n"
     ]
    },
    {
     "name": "stdout",
     "output_type": "stream",
     "text": [
      "0...10...20...30...40...50...60...70...80...90...100 - done.\n",
      "0"
     ]
    },
    {
     "name": "stderr",
     "output_type": "stream",
     "text": [
      "Generating Overview Tiles:\n"
     ]
    },
    {
     "name": "stdout",
     "output_type": "stream",
     "text": [
      "...10...20...30...40...50...60...70...80...90...100 - done.\n"
     ]
    }
   ],
   "source": [
    "for tiff in tiffs:\n",
    "  os.system(f\"gdal2tiles.py -z {min_zoom}-{max_zoom} {tiff} ./data/raster_tiles/{os.path.basename(tiff).split('.')[0]}\")"
   ]
  }
 ],
 "metadata": {
  "kernelspec": {
   "display_name": "Python 3",
   "language": "python",
   "name": "python3"
  },
  "language_info": {
   "codemirror_mode": {
    "name": "ipython",
    "version": 3
   },
   "file_extension": ".py",
   "mimetype": "text/x-python",
   "name": "python",
   "nbconvert_exporter": "python",
   "pygments_lexer": "ipython3",
   "version": "3.11.7"
  }
 },
 "nbformat": 4,
 "nbformat_minor": 2
}
