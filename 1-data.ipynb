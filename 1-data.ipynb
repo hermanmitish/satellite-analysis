{
 "cells": [
  {
   "cell_type": "code",
   "execution_count": 1,
   "metadata": {},
   "outputs": [
    {
     "name": "stdout",
     "output_type": "stream",
     "text": [
      "Note: you may need to restart the kernel to use updated packages.\n"
     ]
    }
   ],
   "source": [
    "# Install google earth engine python API\n",
    "# https://developers.google.com/earth-engine/python_install_manual\n",
    "%pip install earthengine-api --upgrade pandas geopandas > /dev/null"
   ]
  },
  {
   "cell_type": "code",
   "execution_count": null,
   "metadata": {},
   "outputs": [],
   "source": [
    "# Get a bounds of the Sviatohirsk city from OpenStreetMap API\n",
    "# https://wiki.openstreetmap.org/wiki/Overpass_API\n",
    "import requests\n",
    "\n",
    "\n",
    "response = requests.get('https://overpass-api.de/api/interpreter?data=[out:json];%20area[name=%22%D0%A1%D0%B2%D1%8F%D1%82%D0%BE%D0%B3%D1%96%D1%80%D1%81%D1%8C%D0%BA%22]%20-%3E%20.a;%20(%20relation(area.a)[admin_level];%20);%20out%20geom;')\n",
    "data = response.json()\n",
    "bounds = data['elements'][0]['bounds']\n",
    "\n",
    "# Make a geojson file with bounds as a polygon\n",
    "geojson = {\n",
    "    \"type\": \"FeatureCollection\",\n",
    "    \"features\": [\n",
    "        {\n",
    "            \"type\": \"Feature\",\n",
    "            \"properties\": {},\n",
    "            \"geometry\":\n",
    "            {\n",
    "                \"type\": \"Polygon\",\n",
    "                \"coordinates\": [\n",
    "                    [\n",
    "                        [bounds['minlon'], bounds['minlat']],\n",
    "                        [bounds['minlon'], bounds['maxlat']],\n",
    "                        [bounds['maxlon'], bounds['maxlat']],\n",
    "                        [bounds['maxlon'], bounds['minlat']],\n",
    "                        [bounds['minlon'], bounds['minlat']]\n",
    "                    ]\n",
    "                ]\n",
    "            }\n",
    "        }\n",
    "    ]\n",
    "}\n",
    "\n",
    "bounds"
   ]
  },
  {
   "cell_type": "code",
   "execution_count": null,
   "metadata": {},
   "outputs": [],
   "source": [
    "\n"
   ]
  },
  {
   "cell_type": "code",
   "execution_count": 7,
   "metadata": {},
   "outputs": [],
   "source": [
    "import ee\n",
    "import pandas as pd\n",
    "import geopandas as gpd\n",
    "ee.Authenticate()\n",
    "ee.Initialize()"
   ]
  },
  {
   "cell_type": "code",
   "execution_count": 17,
   "metadata": {},
   "outputs": [
    {
     "name": "stdout",
     "output_type": "stream",
     "text": [
      "{'minlat': 48.871914, 'minlon': 37.294625, 'maxlat': 49.0618144, 'maxlon': 37.6970164}\n",
      "Total images:  63\n"
     ]
    },
    {
     "data": {
      "text/html": [
       "<div>\n",
       "<style scoped>\n",
       "    .dataframe tbody tr th:only-of-type {\n",
       "        vertical-align: middle;\n",
       "    }\n",
       "\n",
       "    .dataframe tbody tr th {\n",
       "        vertical-align: top;\n",
       "    }\n",
       "\n",
       "    .dataframe thead th {\n",
       "        text-align: right;\n",
       "    }\n",
       "</style>\n",
       "<table border=\"1\" class=\"dataframe\">\n",
       "  <thead>\n",
       "    <tr style=\"text-align: right;\">\n",
       "      <th></th>\n",
       "      <th>date</th>\n",
       "      <th>bands</th>\n",
       "    </tr>\n",
       "  </thead>\n",
       "  <tbody>\n",
       "    <tr>\n",
       "      <th>0</th>\n",
       "      <td>2022-02-26</td>\n",
       "      <td>[VV, VH, angle]</td>\n",
       "    </tr>\n",
       "    <tr>\n",
       "      <th>1</th>\n",
       "      <td>2022-02-27</td>\n",
       "      <td>[VV, VH, angle]</td>\n",
       "    </tr>\n",
       "    <tr>\n",
       "      <th>2</th>\n",
       "      <td>2022-03-04</td>\n",
       "      <td>[VV, VH, angle]</td>\n",
       "    </tr>\n",
       "    <tr>\n",
       "      <th>3</th>\n",
       "      <td>2022-03-05</td>\n",
       "      <td>[VV, VH, angle]</td>\n",
       "    </tr>\n",
       "    <tr>\n",
       "      <th>4</th>\n",
       "      <td>2022-03-10</td>\n",
       "      <td>[VV, VH, angle]</td>\n",
       "    </tr>\n",
       "    <tr>\n",
       "      <th>...</th>\n",
       "      <td>...</td>\n",
       "      <td>...</td>\n",
       "    </tr>\n",
       "    <tr>\n",
       "      <th>58</th>\n",
       "      <td>2022-08-25</td>\n",
       "      <td>[VV, VH, angle]</td>\n",
       "    </tr>\n",
       "    <tr>\n",
       "      <th>59</th>\n",
       "      <td>2022-08-26</td>\n",
       "      <td>[VV, VH, angle]</td>\n",
       "    </tr>\n",
       "    <tr>\n",
       "      <th>60</th>\n",
       "      <td>2022-08-31</td>\n",
       "      <td>[VV, VH, angle]</td>\n",
       "    </tr>\n",
       "    <tr>\n",
       "      <th>61</th>\n",
       "      <td>2022-09-06</td>\n",
       "      <td>[VV, VH, angle]</td>\n",
       "    </tr>\n",
       "    <tr>\n",
       "      <th>62</th>\n",
       "      <td>2022-09-07</td>\n",
       "      <td>[VV, VH, angle]</td>\n",
       "    </tr>\n",
       "  </tbody>\n",
       "</table>\n",
       "<p>63 rows × 2 columns</p>\n",
       "</div>"
      ],
      "text/plain": [
       "          date            bands\n",
       "0   2022-02-26  [VV, VH, angle]\n",
       "1   2022-02-27  [VV, VH, angle]\n",
       "2   2022-03-04  [VV, VH, angle]\n",
       "3   2022-03-05  [VV, VH, angle]\n",
       "4   2022-03-10  [VV, VH, angle]\n",
       "..         ...              ...\n",
       "58  2022-08-25  [VV, VH, angle]\n",
       "59  2022-08-26  [VV, VH, angle]\n",
       "60  2022-08-31  [VV, VH, angle]\n",
       "61  2022-09-06  [VV, VH, angle]\n",
       "62  2022-09-07  [VV, VH, angle]\n",
       "\n",
       "[63 rows x 2 columns]"
      ]
     },
     "execution_count": 17,
     "metadata": {},
     "output_type": "execute_result"
    }
   ],
   "source": [
    "\n",
    "# Get a list of Sentinel-1 images, filter by metadata properties.\n",
    "# https://developers.google.com/earth-engine/datasets/catalog/COPERNICUS_S1_GRD\n",
    "\n",
    "# Sviatohirsk was occupied from 5 June 2022 to 12 September 2022\n",
    "sentinel = ee.ImageCollection('COPERNICUS/S1_GRD')\\\n",
    "    .filterBounds(ee.Geometry.BBox(\n",
    "        bounds['minlat'],\n",
    "        bounds['minlon'],\n",
    "        bounds['maxlat'],\n",
    "        bounds['maxlon']\n",
    "    ))\\\n",
    "    .filterDate(\n",
    "        '2022-02-22', \n",
    "        '2022-09-12' \n",
    "    )\n",
    "\n",
    "\n",
    "# Get a list of images\n",
    "sentinel_list = sentinel.toList(sentinel.size())\n",
    "print('Total images: ', sentinel.size().getInfo())\n",
    "\n",
    "# For each image get a list of bands, and date\n",
    "sentinel_data = []\n",
    "for i in range(sentinel.size().getInfo()):\n",
    "    image = ee.Image(sentinel_list.get(i))\n",
    "    bands = image.bandNames().getInfo()\n",
    "    date = image.date().format('YYYY-MM-dd').getInfo()\n",
    "    sentinel_data.append({\n",
    "        'date': date,\n",
    "        'bands': bands\n",
    "    })\n",
    "  \n",
    "# Convert to pandas dataframe\n",
    "sentinel_df = pd.DataFrame(sentinel_data)\n",
    "sentinel_df"
   ]
  },
  {
   "cell_type": "code",
   "execution_count": 62,
   "metadata": {},
   "outputs": [
    {
     "name": "stdout",
     "output_type": "stream",
     "text": [
      "Quadkey coordinates of the city:\n"
     ]
    },
    {
     "data": {
      "text/plain": [
       "('120330101000', '120312323302')"
      ]
     },
     "execution_count": 62,
     "metadata": {},
     "output_type": "execute_result"
    }
   ],
   "source": [
    "# Translate Lat/Lon bounds of the city to Quadkeys to download building footprints\n",
    "import math\n",
    "\n",
    "def lat_lon_to_pixel(latitude, longitude, zoom):\n",
    "    sinLatitude = math.sin(latitude * math.pi/180)\n",
    "    pixelX = ((longitude + 180) / 360) * 256 * 2**zoom\n",
    "    pixelY = (0.5 - math.log((1 + sinLatitude) / (1 - sinLatitude)) / (4 * math.pi)) * 256 * 2**zoom\n",
    "    return pixelX, pixelY\n",
    "\n",
    "def pixel_to_tile(pixelX, pixelY):\n",
    "    return int(math.floor(pixelX / 256)), int(math.floor(pixelY / 256))\n",
    "\n",
    "def tile_to_quadkey(tileX, tileY, zoom):\n",
    "    quadkey = \"\"\n",
    "    for i in range(zoom, 0, -1):\n",
    "        digit = 0\n",
    "        mask = 1 << (i - 1)\n",
    "        if (tileX & mask) != 0:\n",
    "            digit += 1\n",
    "        if (tileY & mask) != 0:\n",
    "            digit += 2\n",
    "        quadkey += str(digit)\n",
    "    return quadkey\n",
    "\n",
    "# Define the bounding box for Sviatohirsk\n",
    "minlat, minlon, maxlat, maxlon = bounds['minlat'], bounds['minlon'], bounds['maxlat'], bounds['maxlon']\n",
    "\n",
    "# Choose a zoom level (adjust as needed to cover the city area)\n",
    "zoom_level = 12\n",
    "\n",
    "# Convert the bounding box corners to pixel coordinates\n",
    "min_pixelX, min_pixelY = lat_lon_to_pixel(minlat, minlon, zoom_level)\n",
    "max_pixelX, max_pixelY = lat_lon_to_pixel(maxlat, maxlon, zoom_level)\n",
    "\n",
    "# Convert pixel coordinates to tile coordinates\n",
    "min_tileX, min_tileY = pixel_to_tile(min_pixelX, min_pixelY)\n",
    "max_tileX, max_tileY = pixel_to_tile(max_pixelX, max_pixelY)\n",
    "\n",
    "# Find Quadkeys for each corner (you might need to find all Quadkeys in the range for full coverage)\n",
    "quadkey_min = tile_to_quadkey(min_tileX, min_tileY, zoom_level)\n",
    "quadkey_max = tile_to_quadkey(max_tileX, max_tileY, zoom_level)\n",
    "\n",
    "\n",
    "# Remove three last digits from the quadkey\n",
    "# quadkey_min = quadkey_min[:-3]\n",
    "# quadkey_max = quadkey_max[:-3]\n",
    "\n",
    "print('Quadkey coordinates of the city:')\n",
    "quadkey_min, quadkey_max"
   ]
  },
  {
   "cell_type": "code",
   "execution_count": 74,
   "metadata": {},
   "outputs": [
    {
     "data": {
      "text/plain": [
       "[120312323, 120330101]"
      ]
     },
     "execution_count": 74,
     "metadata": {},
     "output_type": "execute_result"
    }
   ],
   "source": [
    "# Adjusting the approach to account for the full-length Quadkeys\n",
    "\n",
    "# Define the full-length Quadkeys\n",
    "def quadkey_to_tile(quadkey):\n",
    "    tileX, tileY = 0, 0\n",
    "    zoom = len(quadkey)\n",
    "    for i in range(zoom, 0, -1):\n",
    "        mask = 1 << (i - 1)\n",
    "        if quadkey[zoom - i] == '1':\n",
    "            tileX |= mask\n",
    "        elif quadkey[zoom - i] == '2':\n",
    "            tileY |= mask\n",
    "        elif quadkey[zoom - i] == '3':\n",
    "            tileX |= mask\n",
    "            tileY |= mask\n",
    "    return tileX, tileY, zoom\n",
    "\n",
    "# Convert full-length Quadkeys back to tile coordinates\n",
    "min_tileX, min_tileY, zoom = quadkey_to_tile(quadkey_min)\n",
    "max_tileX, max_tileY, _ = quadkey_to_tile(quadkey_max)\n",
    "\n",
    "# Ensure the min and max tile ranges are valid\n",
    "min_tileX, max_tileX = sorted([min_tileX, max_tileX])\n",
    "min_tileY, max_tileY = sorted([min_tileY, max_tileY])\n",
    "\n",
    "# Generate list of all Quadkeys in the bounding box\n",
    "all_quadkeys = []\n",
    "for tileX in range(min_tileX, max_tileX + 1):\n",
    "    for tileY in range(min_tileY, max_tileY + 1):\n",
    "        all_quadkeys.append(tile_to_quadkey(tileX, tileY, len(quadkey_min)))\n",
    "\n",
    "all_quadkeys_cropped = list(set(map(lambda x: int(x[:-3]), all_quadkeys)))\n",
    "all_quadkeys_cropped"
   ]
  },
  {
   "cell_type": "code",
   "execution_count": 78,
   "metadata": {},
   "outputs": [
    {
     "name": "stdout",
     "output_type": "stream",
     "text": [
      "Total Links:  2\n"
     ]
    }
   ],
   "source": [
    "# https://github.com/microsoft/GlobalMLBuildingFootprints/blob/main/scripts/make-gis-friendly.py\n",
    "\n",
    "# Get polygons of building footprints for selected bounding box from Microsoft Building Footprints dataset\n",
    "from shapely.geometry import shape\n",
    "import os\n",
    "\n",
    "# this is the name of the geography you want to retrieve. update to meet your needs\n",
    "location = 'Ukraine'\n",
    "\n",
    "dataset_links = pd.read_csv(\"https://minedbuildings.blob.core.windows.net/global-buildings/dataset-links.csv\")\n",
    "ukraine_links = dataset_links[dataset_links.Location == location]\n",
    "sviatohirsk_links = ukraine_links[ukraine_links.QuadKey.isin(all_quadkeys_cropped)]\n",
    "\n",
    "print('Total Links: ', len(sviatohirsk_links))\n",
    "\n",
    "footprints = []\n",
    "for _, row in sviatohirsk_links.iterrows():\n",
    "    df = pd.read_json(row.Url, lines=True)\n",
    "    df['geometry'] = df['geometry'].apply(shape)\n",
    "    footprints.append(gpd.GeoDataFrame(df, crs=4326))\n",
    "\n",
    "footprints = pd.concat(footprints)"
   ]
  },
  {
   "cell_type": "code",
   "execution_count": 79,
   "metadata": {},
   "outputs": [],
   "source": [
    "# Filter footprints by the city bounds\n",
    "footprints.cx[minlon:maxlon, minlat:maxlat].to_file('./footprints.geojson', driver='GeoJSON')"
   ]
  }
 ],
 "metadata": {
  "kernelspec": {
   "display_name": "Python 3",
   "language": "python",
   "name": "python3"
  },
  "language_info": {
   "codemirror_mode": {
    "name": "ipython",
    "version": 3
   },
   "file_extension": ".py",
   "mimetype": "text/x-python",
   "name": "python",
   "nbconvert_exporter": "python",
   "pygments_lexer": "ipython3",
   "version": "3.11.7"
  }
 },
 "nbformat": 4,
 "nbformat_minor": 2
}
